{
 "cells": [
  {
   "cell_type": "code",
   "execution_count": 1,
   "metadata": {
    "collapsed": true
   },
   "outputs": [],
   "source": [
    "import pyodbc\n",
    "import pandas as pd\n",
    "\n",
    "conn = pyodbc.connect(\n",
    "    driver='FreeTDS',\n",
    "    server='lga-db4.pulse.data',\n",
    "    port=58321,\n",
    "    uid='sqoopuser',\n",
    "    pwd='sqoop@207*',\n",
    "    tds_version='7.3'\n",
    ")\n",
    "\n",
    "query = \"\"\"\n",
    "SELECT * FROM Utility.dbo.ComparePage;\n",
    "\"\"\"\n",
    "\n",
    "df = pd.read_sql_query(query, conn)"
   ]
  },
  {
   "cell_type": "code",
   "execution_count": 2,
   "metadata": {},
   "outputs": [
    {
     "data": {
      "text/html": [
       "<div>\n",
       "<style>\n",
       "    .dataframe thead tr:only-child th {\n",
       "        text-align: right;\n",
       "    }\n",
       "\n",
       "    .dataframe thead th {\n",
       "        text-align: left;\n",
       "    }\n",
       "\n",
       "    .dataframe tbody tr th {\n",
       "        vertical-align: top;\n",
       "    }\n",
       "</style>\n",
       "<table border=\"1\" class=\"dataframe\">\n",
       "  <thead>\n",
       "    <tr style=\"text-align: right;\">\n",
       "      <th></th>\n",
       "      <th>Dt</th>\n",
       "      <th>TableName</th>\n",
       "      <th>PaidImpressions</th>\n",
       "      <th>LastModifiedDt</th>\n",
       "    </tr>\n",
       "  </thead>\n",
       "  <tbody>\n",
       "    <tr>\n",
       "      <th>0</th>\n",
       "      <td>2017-09-09</td>\n",
       "      <td>lga-hive-factlogevent</td>\n",
       "      <td>151447969</td>\n",
       "      <td>2017-10-09 17:21:00</td>\n",
       "    </tr>\n",
       "    <tr>\n",
       "      <th>1</th>\n",
       "      <td>2017-09-09</td>\n",
       "      <td>lga-hive-logevent</td>\n",
       "      <td>151447969</td>\n",
       "      <td>2017-10-09 17:21:00</td>\n",
       "    </tr>\n",
       "    <tr>\n",
       "      <th>2</th>\n",
       "      <td>2017-09-09</td>\n",
       "      <td>lga-sql-advDailyStats</td>\n",
       "      <td>151447969</td>\n",
       "      <td>2017-10-09 17:21:00</td>\n",
       "    </tr>\n",
       "    <tr>\n",
       "      <th>3</th>\n",
       "      <td>2017-09-09</td>\n",
       "      <td>lga-sql-KPIHourly</td>\n",
       "      <td>151447969</td>\n",
       "      <td>2017-10-09 17:21:00</td>\n",
       "    </tr>\n",
       "    <tr>\n",
       "      <th>4</th>\n",
       "      <td>2017-09-09</td>\n",
       "      <td>lga-sql-pubDailyStats</td>\n",
       "      <td>151447969</td>\n",
       "      <td>2017-10-09 17:21:00</td>\n",
       "    </tr>\n",
       "    <tr>\n",
       "      <th>5</th>\n",
       "      <td>2017-09-09</td>\n",
       "      <td>sjc-hive-factlogevent</td>\n",
       "      <td>88819475</td>\n",
       "      <td>2017-10-09 17:21:00</td>\n",
       "    </tr>\n",
       "    <tr>\n",
       "      <th>6</th>\n",
       "      <td>2017-09-09</td>\n",
       "      <td>sjc-hive-logevent</td>\n",
       "      <td>151447969</td>\n",
       "      <td>2017-10-09 17:21:00</td>\n",
       "    </tr>\n",
       "    <tr>\n",
       "      <th>7</th>\n",
       "      <td>2017-09-09</td>\n",
       "      <td>sjc-sql-advDailyStats</td>\n",
       "      <td>151447969</td>\n",
       "      <td>2017-10-09 17:21:00</td>\n",
       "    </tr>\n",
       "    <tr>\n",
       "      <th>8</th>\n",
       "      <td>2017-09-09</td>\n",
       "      <td>sjc-sql-KPIHourly</td>\n",
       "      <td>151447969</td>\n",
       "      <td>2017-10-09 17:21:00</td>\n",
       "    </tr>\n",
       "    <tr>\n",
       "      <th>9</th>\n",
       "      <td>2017-09-09</td>\n",
       "      <td>sjc-sql-pubDailyStats</td>\n",
       "      <td>151447969</td>\n",
       "      <td>2017-10-09 17:21:00</td>\n",
       "    </tr>\n",
       "  </tbody>\n",
       "</table>\n",
       "</div>"
      ],
      "text/plain": [
       "<div>\n",
       "<style>\n",
       "    .dataframe thead tr:only-child th {\n",
       "        text-align: right;\n",
       "    }\n",
       "\n",
       "    .dataframe thead th {\n",
       "        text-align: left;\n",
       "    }\n",
       "\n",
       "    .dataframe tbody tr th {\n",
       "        vertical-align: top;\n",
       "    }\n",
       "</style>\n",
       "<table border=\"1\" class=\"dataframe\">\n",
       "  <thead>\n",
       "    <tr style=\"text-align: right;\">\n",
       "      <th></th>\n",
       "      <th>Dt</th>\n",
       "      <th>TableName</th>\n",
       "      <th>PaidImpressions</th>\n",
       "      <th>LastModifiedDt</th>\n",
       "    </tr>\n",
       "  </thead>\n",
       "  <tbody>\n",
       "    <tr>\n",
       "      <th>0</th>\n",
       "      <td>2017-09-09</td>\n",
       "      <td>lga-hive-factlogevent</td>\n",
       "      <td>151447969</td>\n",
       "      <td>2017-10-09 17:21:00</td>\n",
       "    </tr>\n",
       "    <tr>\n",
       "      <th>1</th>\n",
       "      <td>2017-09-09</td>\n",
       "      <td>lga-hive-logevent</td>\n",
       "      <td>151447969</td>\n",
       "      <td>2017-10-09 17:21:00</td>\n",
       "    </tr>\n",
       "    <tr>\n",
       "      <th>2</th>\n",
       "      <td>2017-09-09</td>\n",
       "      <td>lga-sql-advDailyStats</td>\n",
       "      <td>151447969</td>\n",
       "      <td>2017-10-09 17:21:00</td>\n",
       "    </tr>\n",
       "    <tr>\n",
       "      <th>3</th>\n",
       "      <td>2017-09-09</td>\n",
       "      <td>lga-sql-KPIHourly</td>\n",
       "      <td>151447969</td>\n",
       "      <td>2017-10-09 17:21:00</td>\n",
       "    </tr>\n",
       "    <tr>\n",
       "      <th>4</th>\n",
       "      <td>2017-09-09</td>\n",
       "      <td>lga-sql-pubDailyStats</td>\n",
       "      <td>151447969</td>\n",
       "      <td>2017-10-09 17:21:00</td>\n",
       "    </tr>\n",
       "    <tr>\n",
       "      <th>5</th>\n",
       "      <td>2017-09-09</td>\n",
       "      <td>sjc-hive-factlogevent</td>\n",
       "      <td>88819475</td>\n",
       "      <td>2017-10-09 17:21:00</td>\n",
       "    </tr>\n",
       "    <tr>\n",
       "      <th>6</th>\n",
       "      <td>2017-09-09</td>\n",
       "      <td>sjc-hive-logevent</td>\n",
       "      <td>151447969</td>\n",
       "      <td>2017-10-09 17:21:00</td>\n",
       "    </tr>\n",
       "    <tr>\n",
       "      <th>7</th>\n",
       "      <td>2017-09-09</td>\n",
       "      <td>sjc-sql-advDailyStats</td>\n",
       "      <td>151447969</td>\n",
       "      <td>2017-10-09 17:21:00</td>\n",
       "    </tr>\n",
       "    <tr>\n",
       "      <th>8</th>\n",
       "      <td>2017-09-09</td>\n",
       "      <td>sjc-sql-KPIHourly</td>\n",
       "      <td>151447969</td>\n",
       "      <td>2017-10-09 17:21:00</td>\n",
       "    </tr>\n",
       "    <tr>\n",
       "      <th>9</th>\n",
       "      <td>2017-09-09</td>\n",
       "      <td>sjc-sql-pubDailyStats</td>\n",
       "      <td>151447969</td>\n",
       "      <td>2017-10-09 17:21:00</td>\n",
       "    </tr>\n",
       "  </tbody>\n",
       "</table>\n",
       "</div>"
      ]
     },
     "execution_count": 2,
     "metadata": {},
     "output_type": "execute_result"
    }
   ],
   "source": [
    "df[:10]"
   ]
  },
  {
   "cell_type": "code",
   "execution_count": 3,
   "metadata": {},
   "outputs": [
    {
     "data": {
      "text/plain": [
       "[u'lga-hive-factlogevent',\n u'lga-hive-logevent',\n u'lga-sql-advDailyStats',\n u'lga-sql-KPIHourly',\n u'lga-sql-pubDailyStats',\n u'sjc-hive-factlogevent',\n u'sjc-hive-logevent',\n u'sjc-sql-advDailyStats',\n u'sjc-sql-KPIHourly',\n u'sjc-sql-pubDailyStats',\n u'vertica-kpihourly',\n u'vertica-rpt']"
      ]
     },
     "execution_count": 3,
     "metadata": {},
     "output_type": "execute_result"
    }
   ],
   "source": [
    "list(df.TableName.unique())     # len is 12"
   ]
  },
  {
   "cell_type": "code",
   "execution_count": 4,
   "metadata": {},
   "outputs": [],
   "source": [
    "pivoted = pd.pivot_table(df, values='PaidImpressions', index=['Dt'], columns=['TableName'])"
   ]
  },
  {
   "cell_type": "code",
   "execution_count": 8,
   "metadata": {},
   "outputs": [],
   "source": [
    "df_descending_dates = pivoted.sort_index(ascending=False, kind='mergesort')"
   ]
  },
  {
   "cell_type": "code",
   "execution_count": 9,
   "metadata": {
    "collapsed": false
   },
   "outputs": [
    {
     "data": {
      "text/plain": [
       "Index([2017-10-09, 2017-10-08, 2017-10-07, 2017-10-06, 2017-10-05], dtype='object', name=u'Dt')"
      ]
     },
     "execution_count": 9,
     "metadata": {},
     "output_type": "execute_result"
    }
   ],
   "source": [
    "smalldf = df_descending_dates.head()\n",
    "smalldf.index"
   ]
  },
  {
   "cell_type": "code",
   "execution_count": 13,
   "metadata": {},
   "outputs": [
    {
     "data": {
      "text/plain": [
       "(5, 12)"
      ]
     },
     "execution_count": 13,
     "metadata": {},
     "output_type": "execute_result"
    }
   ],
   "source": [
    "smalldf.shape"
   ]
  },
  {
   "cell_type": "code",
   "execution_count": 11,
   "metadata": {},
   "outputs": [
    {
     "data": {
      "text/plain": [
       "'Dt\\tlga-hive-factlogevent\\tlga-hive-logevent\\tlga-sql-KPIHourly\\tlga-sql-advDailyStats\\tlga-sql-pubDailyStats\\tsjc-hive-factlogevent\\tsjc-hive-logevent\\tsjc-sql-KPIHourly\\tsjc-sql-advDailyStats\\tsjc-sql-pubDailyStats\\tvertica-kpihourly\\tvertica-rpt\\n2017-10-09\\t88432281.0\\t88432281.0\\t116954130.0\\t72263486.0\\t72263486.0\\t64051179.0\\t80382732.0\\t88432281.0\\t72263486.0\\t72263486.0\\t116954130.0\\t\\n2017-10-08\\t152502300.0\\t152502300.0\\t152502300.0\\t152502300.0\\t152502300.0\\t152502300.0\\t152502300.0\\t152502300.0\\t152502300.0\\t152502300.0\\t152502300.0\\t152502300.0\\n2017-10-07\\t146430539.0\\t146430539.0\\t146430539.0\\t146430539.0\\t146430539.0\\t146430539.0\\t146430539.0\\t146430539.0\\t146430539.0\\t146430539.0\\t146430539.0\\t146430539.0\\n2017-10-06\\t158814386.0\\t158814386.0\\t158814386.0\\t158814386.0\\t158814386.0\\t158814386.0\\t158814386.0\\t158814386.0\\t158814386.0\\t158814386.0\\t158814386.0\\t158814386.0\\n2017-10-05\\t158079882.0\\t158079882.0\\t158079882.0\\t158079882.0\\t158079882.0\\t158079882.0\\t158079882.0\\t158079882.0\\t158079882.0\\t158079882.0\\t158079882.0\\t158079882.0'"
      ]
     },
     "execution_count": 11,
     "metadata": {},
     "output_type": "execute_result"
    }
   ],
   "source": [
    "smalldf.to_csv(sep='\\t').strip('\\n')"
   ]
  },
  {
   "cell_type": "code",
   "execution_count": 12,
   "metadata": {},
   "outputs": [
    {
     "data": {
      "text/plain": [
       "'Dt\\tlga-hive-factlogevent\\tlga-hive-logevent\\tlga-sql-KPIHourly\\tlga-sql-advDailyStats\\tlga-sql-pubDailyStats\\tsjc-hive-factlogevent\\tsjc-hive-logevent\\tsjc-sql-KPIHourly\\tsjc-sql-advDailyStats\\tsjc-sql-pubDailyStats\\tvertica-kpihourly\\tvertica-rpt\\n2017-10-09\\t88432281.0\\t88432281.0\\t116954130.0\\t72263486.0\\t72263486.0\\t64051179.0\\t80382732.0\\t88432281.0\\t72263486.0\\t72263486.0\\t116954130.0\\t\\n2017-10-08\\t152502300.0\\t152502300.0\\t152502300.0\\t152502300.0\\t152502300.0\\t152502300.0\\t152502300.0\\t152502300.0\\t152502300.0\\t152502300.0\\t152502300.0\\t152502300.0\\n2017-10-07\\t146430539.0\\t146430539.0\\t146430539.0\\t146430539.0\\t146430539.0\\t146430539.0\\t146430539.0\\t146430539.0\\t146430539.0\\t146430539.0\\t146430539.0\\t146430539.0\\n2017-10-06\\t158814386.0\\t158814386.0\\t158814386.0\\t158814386.0\\t158814386.0\\t158814386.0\\t158814386.0\\t158814386.0\\t158814386.0\\t158814386.0\\t158814386.0\\t158814386.0\\n2017-10-05\\t158079882.0\\t158079882.0\\t158079882.0\\t158079882.0\\t158079882.0\\t158079882.0\\t158079882.0\\t158079882.0\\t158079882.0\\t158079882.0\\t158079882.0\\t158079882.0\\n'"
      ]
     },
     "execution_count": 12,
     "metadata": {},
     "output_type": "execute_result"
    }
   ],
   "source": [
    "smalldf.to_csv(sep='\\t')"
   ]
  },
  {
   "cell_type": "code",
   "execution_count": null,
   "metadata": {},
   "outputs": [],
   "source": [
    ""
   ]
  }
 ],
 "metadata": {
  "kernelspec": {
   "display_name": "Python 2",
   "language": "python",
   "name": "python2"
  },
  "language_info": {
   "codemirror_mode": {
    "name": "ipython",
    "version": 2.0
   },
   "file_extension": ".py",
   "mimetype": "text/x-python",
   "name": "python",
   "nbconvert_exporter": "python",
   "pygments_lexer": "ipython2",
   "version": "2.7.6"
  }
 },
 "nbformat": 4,
 "nbformat_minor": 0
}